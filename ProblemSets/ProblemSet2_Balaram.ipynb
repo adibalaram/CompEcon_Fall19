{
 "cells": [
  {
   "cell_type": "markdown",
   "metadata": {},
   "source": [
    "# Problem Set 2\n",
    "# Aditya Balaram"
   ]
  },
  {
   "cell_type": "markdown",
   "metadata": {},
   "source": [
    "## Problem 1 from the Standard Library chapter"
   ]
  },
  {
   "cell_type": "code",
   "execution_count": 1,
   "metadata": {},
   "outputs": [],
   "source": [
    "def list_stats(L):\n",
    "    '''\n",
    "    This function returns the maximum, minimum and average of the entries in a list\n",
    "    \n",
    "    Args:\n",
    "    L (List): The list from which these values are to be computed\n",
    "    \n",
    "    Returns:\n",
    "    The maximum, minimum and average of the list (in that specific order)\n",
    "    '''\n",
    "    return max(L), min(L), (sum(L)/len(L))"
   ]
  },
  {
   "cell_type": "code",
   "execution_count": 2,
   "metadata": {},
   "outputs": [
    {
     "data": {
      "text/plain": [
       "(100, 0, 28.8)"
      ]
     },
     "execution_count": 2,
     "metadata": {},
     "output_type": "execute_result"
    }
   ],
   "source": [
    "list_stats([10,30,0,4,100])"
   ]
  },
  {
   "cell_type": "markdown",
   "metadata": {},
   "source": [
    "#### The above function is executed in one line"
   ]
  },
  {
   "cell_type": "markdown",
   "metadata": {},
   "source": [
    "# Problem 2 from the Standard Library chapter"
   ]
  },
  {
   "cell_type": "code",
   "execution_count": 3,
   "metadata": {},
   "outputs": [
    {
     "name": "stdout",
     "output_type": "stream",
     "text": [
      "int data type is immutable\n"
     ]
    }
   ],
   "source": [
    "# Check if int's are mutable\n",
    "int_val_1 = 4\n",
    "int_val_2 = int_val_1\n",
    "int_val_2 = 13\n",
    "if(int_val_1 == int_val_2):\n",
    "    print('int data type is mutable')\n",
    "else:\n",
    "    print('int data type is immutable')\n",
    "        "
   ]
  },
  {
   "cell_type": "code",
   "execution_count": 4,
   "metadata": {},
   "outputs": [
    {
     "name": "stdout",
     "output_type": "stream",
     "text": [
      "str data type is immutable\n"
     ]
    }
   ],
   "source": [
    "# Check if strings are mutable\n",
    "str_val_1 = 'aditya'\n",
    "str_val_2 = str_val_1\n",
    "str_val_2 = 'balaram'\n",
    "if(str_val_1 == str_val_2):\n",
    "    print('str data type is mutable')\n",
    "else:\n",
    "    print('str data type is immutable')"
   ]
  },
  {
   "cell_type": "code",
   "execution_count": 5,
   "metadata": {},
   "outputs": [
    {
     "name": "stdout",
     "output_type": "stream",
     "text": [
      "Lists are mutable\n"
     ]
    }
   ],
   "source": [
    "# Check if lists are mutable\n",
    "list_1 = [1,2,3,4]\n",
    "list_2 = list_1\n",
    "list_2[1] = 3\n",
    "if(list_1 == list_2):\n",
    "    print('Lists are mutable')\n",
    "else:\n",
    "    print('Lists are immutable')"
   ]
  },
  {
   "cell_type": "code",
   "execution_count": 6,
   "metadata": {},
   "outputs": [
    {
     "name": "stdout",
     "output_type": "stream",
     "text": [
      "Tuples are immutable\n"
     ]
    }
   ],
   "source": [
    "#Check if tuples are mutable\n",
    "tuple_1 = (1,2,3,4)\n",
    "tuple_2 = tuple_1\n",
    "tuple_2 += (1,)\n",
    "if(tuple_1 == tuple_2):\n",
    "    print('Tuples are mutable')\n",
    "else:\n",
    "    print('Tuples are immutable')"
   ]
  },
  {
   "cell_type": "code",
   "execution_count": 7,
   "metadata": {},
   "outputs": [
    {
     "name": "stdout",
     "output_type": "stream",
     "text": [
      "Sets are mutable\n"
     ]
    }
   ],
   "source": [
    "#Check if sets are mutable\n",
    "set_1 = {1,2,3}\n",
    "set_2 = set_1\n",
    "set_2.remove(3)    #This removes the element 3 from the set\n",
    "if(set_1 == set_2):\n",
    "    print('Sets are mutable')\n",
    "else:\n",
    "    print('Sets are immutable')"
   ]
  },
  {
   "cell_type": "code",
   "execution_count": 8,
   "metadata": {},
   "outputs": [
    {
     "data": {
      "text/plain": [
       "{1, 2}"
      ]
     },
     "execution_count": 8,
     "metadata": {},
     "output_type": "execute_result"
    }
   ],
   "source": [
    "set_2    #3 was removed from set_2 as expected"
   ]
  },
  {
   "cell_type": "code",
   "execution_count": 9,
   "metadata": {},
   "outputs": [
    {
     "data": {
      "text/plain": [
       "{1, 2}"
      ]
     },
     "execution_count": 9,
     "metadata": {},
     "output_type": "execute_result"
    }
   ],
   "source": [
    "set_1    #3 was removed from set_1 since a separate object wasn't created, implying that sets are mutable"
   ]
  },
  {
   "cell_type": "markdown",
   "metadata": {},
   "source": [
    "# Problem 3 from the Standard Library chapter\n",
    "\n",
    "### I'm not explicitly creating a module called Calculator.py but if the first set of functions were saved in a file by that name, one could execute it from the command line and then follow this up by saving the hypotenuse calculator in a separate Python file, execute it, and then call the function hyp_calc(a,b).\n",
    "\n",
    "### I presume I could do this by using the command %run -i Calculator.py but I've already defined the functions here and it feels like unnecessary work. Ideally, I should have just saved everything in different .py files. Hope that's ok. Sorry about this."
   ]
  },
  {
   "cell_type": "code",
   "execution_count": 10,
   "metadata": {},
   "outputs": [],
   "source": [
    "def sum_calc(a,b):\n",
    "    '''\n",
    "    This function computes the sum of two real valued arguments\n",
    "    \n",
    "    Args:\n",
    "    a,b (Scalars): Two real values\n",
    "    \n",
    "    '''\n",
    "    return (a+b)\n",
    "\n",
    "def prod_calc(a,b):\n",
    "    '''\n",
    "    This function computes the product of two real valued arguments\n",
    "    \n",
    "    Args:\n",
    "    a,b (Scalars): Two real values\n",
    "    \n",
    "    '''\n",
    "    return (a*b)\n",
    "\n",
    "import math"
   ]
  },
  {
   "cell_type": "code",
   "execution_count": 11,
   "metadata": {},
   "outputs": [],
   "source": [
    "def hyp_calc(a,b):\n",
    "    '''\n",
    "    This function computes the length of the hypotenuse for a right angle triangle with\n",
    "    the other two sides input by the user\n",
    "    \n",
    "    Args:\n",
    "    \n",
    "    a,b (Scalar): Positive real values\n",
    "    \n",
    "    Returns:\n",
    "    \n",
    "    hyp (Scalar): Length of hypotenuse\n",
    "    \n",
    "    '''\n",
    "    #Compute the squares of the two sides\n",
    "    dist_1_sq = prod_calc(a,a)\n",
    "    dist_2_sq = prod_calc(b,b)\n",
    "    \n",
    "    #Compute the sum of the squares\n",
    "    sum_val = sum_calc(dist_1_sq,dist_2_sq)\n",
    "    \n",
    "    #Compute the square root\n",
    "    hyp = math.sqrt(sum_val)\n",
    "    \n",
    "    return hyp"
   ]
  },
  {
   "cell_type": "code",
   "execution_count": 12,
   "metadata": {},
   "outputs": [
    {
     "data": {
      "text/plain": [
       "5.0"
      ]
     },
     "execution_count": 12,
     "metadata": {},
     "output_type": "execute_result"
    }
   ],
   "source": [
    "hyp_calc(3,4)"
   ]
  },
  {
   "cell_type": "markdown",
   "metadata": {},
   "source": [
    "# Problem 1 from the Numpy chapter"
   ]
  },
  {
   "cell_type": "code",
   "execution_count": 13,
   "metadata": {},
   "outputs": [],
   "source": [
    "import numpy as np\n",
    "\n",
    "def mat_dot_prod():\n",
    "    '''\n",
    "    Compute the dot product of matrices A and B as defined in Problem 1 of the Numpy chapter\n",
    "    \n",
    "    Returns:\n",
    "    \n",
    "    dot_prod: 2x4 matrix which is the dot product of A and B\n",
    "    \n",
    "    '''\n",
    "    \n",
    "    A = np.array([[3, -1, 4],[1, 5, -9]])\n",
    "    B = np.array([[2, 6, -5, 3],[5, -8, 9, 7],[9, -3, -2, -3]])\n",
    "    \n",
    "    dot_prod = np.dot(A,B)\n",
    "    \n",
    "    return dot_prod"
   ]
  },
  {
   "cell_type": "code",
   "execution_count": 14,
   "metadata": {},
   "outputs": [
    {
     "data": {
      "text/plain": [
       "array([[ 37,  14, -32, -10],\n",
       "       [-54,  -7,  58,  65]])"
      ]
     },
     "execution_count": 14,
     "metadata": {},
     "output_type": "execute_result"
    }
   ],
   "source": [
    "mat_dot_prod()"
   ]
  },
  {
   "cell_type": "markdown",
   "metadata": {},
   "source": [
    "# Problem 2 from the Numpy chapter"
   ]
  },
  {
   "cell_type": "code",
   "execution_count": 15,
   "metadata": {},
   "outputs": [],
   "source": [
    "def Cayley_Hamilton_Demo():\n",
    "    '''\n",
    "    Provides a demonstration of the Cayley Hamilton theorem for the matrix A defined in the Numpy chapter\n",
    "    \n",
    "    Returns:\n",
    "    \n",
    "    mat_final: Result of computing -A^3 + 9A^2 - 15A\n",
    "    \n",
    "    '''\n",
    "    \n",
    "    A = np.array([[3, 1, 4],[1, 5, 9],[-5, 3, 1]])\n",
    "    \n",
    "    square_term = np.dot(A,A)\n",
    "    cubic_term = np.dot(square_term,A)\n",
    "    \n",
    "    mat_final = (-1 * cubic_term) + (9 * square_term) + (-15 * A)\n",
    "    \n",
    "    \n",
    "    return mat_final"
   ]
  },
  {
   "cell_type": "code",
   "execution_count": 16,
   "metadata": {},
   "outputs": [
    {
     "data": {
      "text/plain": [
       "array([[0, 0, 0],\n",
       "       [0, 0, 0],\n",
       "       [0, 0, 0]])"
      ]
     },
     "execution_count": 16,
     "metadata": {},
     "output_type": "execute_result"
    }
   ],
   "source": [
    "Cayley_Hamilton_Demo()"
   ]
  },
  {
   "cell_type": "markdown",
   "metadata": {},
   "source": [
    "# Problem 5 from the Numpy chapter"
   ]
  },
  {
   "cell_type": "code",
   "execution_count": 17,
   "metadata": {},
   "outputs": [],
   "source": [
    "def array_stacking():\n",
    "    '''\n",
    "    Stacks defined matrices in the manner specified in the problem\n",
    "    \n",
    "    Returns:\n",
    "    \n",
    "    stacked (2-D array): The matrix as specified in the problem\n",
    "    '''\n",
    "    \n",
    "    # Create specified matrices \n",
    "    A = np.arange(6).reshape(3,2).T\n",
    "    I = np.eye(3)\n",
    "    B = np.full_like(I,3)\n",
    "    B = np.tril(B)\n",
    "    C = -2 * I\n",
    "    \n",
    "    I_2 = np.eye(2)\n",
    "    \n",
    "    Block_Row_1 = np.hstack((np.zeros_like(I),A.T,np.eye(3)))\n",
    "    Block_Row_2 = np.hstack((A,np.zeros_like(I_2),np.zeros_like(A)))\n",
    "    Block_Row_3 = np.hstack((B,np.zeros_like(A.T),C))\n",
    "    \n",
    "    stacked = np.vstack((Block_Row_1,Block_Row_2,Block_Row_3))\n",
    "    \n",
    "    return stacked"
   ]
  },
  {
   "cell_type": "code",
   "execution_count": 18,
   "metadata": {},
   "outputs": [
    {
     "data": {
      "text/plain": [
       "array([[ 0.,  0.,  0.,  0.,  1.,  1.,  0.,  0.],\n",
       "       [ 0.,  0.,  0.,  2.,  3.,  0.,  1.,  0.],\n",
       "       [ 0.,  0.,  0.,  4.,  5.,  0.,  0.,  1.],\n",
       "       [ 0.,  2.,  4.,  0.,  0.,  0.,  0.,  0.],\n",
       "       [ 1.,  3.,  5.,  0.,  0.,  0.,  0.,  0.],\n",
       "       [ 3.,  0.,  0.,  0.,  0., -2., -0., -0.],\n",
       "       [ 3.,  3.,  0.,  0.,  0., -0., -2., -0.],\n",
       "       [ 3.,  3.,  3.,  0.,  0., -0., -0., -2.]])"
      ]
     },
     "execution_count": 18,
     "metadata": {},
     "output_type": "execute_result"
    }
   ],
   "source": [
    "array_stacking()"
   ]
  },
  {
   "cell_type": "markdown",
   "metadata": {},
   "source": [
    "# Problem 1 from the Object Oriented Programming chapter"
   ]
  },
  {
   "cell_type": "code",
   "execution_count": 19,
   "metadata": {},
   "outputs": [],
   "source": [
    "class Backpack:\n",
    "    \"\"\"A Backpack object class. Has a name, color, maximum size, and a list of contents.\n",
    "    \n",
    "    Attributes:\n",
    "    name (str): the name of the backpack's owner.\n",
    "    color (str): the color of the backpack.\n",
    "    max_size (int): the maximum number of items that can be in the backpack. This is fixed at 5\n",
    "    contents (list): the contents of the backpack.\n",
    "    \"\"\"\n",
    "    def __init__(self, name, color, max_size = 5): # This function is the constructor.\n",
    "        \n",
    "        \"\"\"Set the name and initialize an empty list of contents.\n",
    "        Parameters:\n",
    "        name (str): the name of the backpack's owner.\n",
    "        color (str): the color of the backpack.\n",
    "        max_size (int): the maximum number of items that can be in the backpack. This is fixed at 5\n",
    "        \"\"\"\n",
    "        self.name = name\n",
    "        self.color = color\n",
    "        self.contents = []\n",
    "        self.max_items = max_size\n",
    "        \n",
    "    def put(self, item):\n",
    "        \"\"\"Add 'item' to the backpack's list of contents as long as there is space remaining in the backpack.\"\"\"\n",
    "        if(len(self.contents) < self.max_items):\n",
    "            self.contents.append(item)\n",
    "        else:\n",
    "            print('No room!')\n",
    "\n",
    "    def take(self, item):\n",
    "        \"\"\"Remove 'item' from the backpack's list of contents.\"\"\"\n",
    "        self.contents.remove(item)\n",
    "        \n",
    "    def dump(self):\n",
    "        \"\"\"Remove all items from the backpack\"\"\"\n",
    "        self.contents.clear()"
   ]
  },
  {
   "cell_type": "code",
   "execution_count": 20,
   "metadata": {},
   "outputs": [],
   "source": [
    "def test_backpack():\n",
    "    testpack = Backpack(\"Barry\", \"black\") # Instantiate the object.\n",
    "    if testpack.name != \"Barry\": # Test an attribute.\n",
    "        print(\"Backpack.name assigned incorrectly\")\n",
    "    for item in [\"pencil\", \"pen\", \"paper\", \"computer\"]:\n",
    "        testpack.put(item) # Test a method.\n",
    "    print(\"Contents:\", testpack.contents)"
   ]
  },
  {
   "cell_type": "code",
   "execution_count": 21,
   "metadata": {},
   "outputs": [
    {
     "name": "stdout",
     "output_type": "stream",
     "text": [
      "Contents: ['pencil', 'pen', 'paper', 'computer']\n"
     ]
    }
   ],
   "source": [
    "test_backpack()    #This is the test suggested in the Problem itself"
   ]
  },
  {
   "cell_type": "code",
   "execution_count": 22,
   "metadata": {},
   "outputs": [],
   "source": [
    "def test_backpack_2():\n",
    "    testpack = Backpack(\"Barry\", \"black\") # Instantiate the object.\n",
    "    if testpack.name != \"Barry\": # Test an attribute.\n",
    "        print(\"Backpack.name assigned incorrectly\")\n",
    "    for item in [\"pencil\", \"pen\", \"paper\", \"computer\"]:\n",
    "        testpack.put(item) # Test a method.\n",
    "    print(\"Contents:\", testpack.contents)\n",
    "    \n",
    "    testpack.put('bigger computer')    #Adds a fifth item to the backpack\n",
    "    print(\"Contents:\", testpack.contents)\n",
    "    \n",
    "    \n",
    "    print(\"Attempting to add a sixth item\")\n",
    "    testpack.put('lunch')    #Attempts to add a sixth item\n",
    "    print(\"Contents:\", testpack.contents)\n",
    "    \n",
    "    print(\"Dump all items from the backpack\")\n",
    "    testpack.dump()    #Empty the entire backpack\n",
    "    print(\"Contents:\", testpack.contents)\n",
    "    \n",
    "    print(\"Color of the backpack is:\", testpack.color)\n",
    "    print(\"Owner of the backpack is:\", testpack.name)"
   ]
  },
  {
   "cell_type": "code",
   "execution_count": 23,
   "metadata": {},
   "outputs": [
    {
     "name": "stdout",
     "output_type": "stream",
     "text": [
      "Contents: ['pencil', 'pen', 'paper', 'computer']\n",
      "Contents: ['pencil', 'pen', 'paper', 'computer', 'bigger computer']\n",
      "Attempting to add a sixth item\n",
      "No room!\n",
      "Contents: ['pencil', 'pen', 'paper', 'computer', 'bigger computer']\n",
      "Dump all items from the backpack\n",
      "Contents: []\n",
      "Color of the backpack is: black\n",
      "Owner of the backpack is: Barry\n"
     ]
    }
   ],
   "source": [
    "test_backpack_2()"
   ]
  },
  {
   "cell_type": "markdown",
   "metadata": {},
   "source": [
    "# Problem 2 from the Object Oriented Programming chapter"
   ]
  },
  {
   "cell_type": "code",
   "execution_count": 24,
   "metadata": {},
   "outputs": [],
   "source": [
    "# Inherit from the Backpack class in the class definition.\n",
    "class Jetpack(Backpack):\n",
    "    \"\"\"A Jetpack object class. Inherits from the Backpack class.\n",
    "    A jetpack has some amount of fuel in it that can be burned in order to fly.\n",
    "    \n",
    "    Attributes:\n",
    "    name (str): the name of the jetpack's owner.\n",
    "    color (str): the color of the jetpack.\n",
    "    max_size (int): the maximum number of items that fit in the jetpack - fixed at 2\n",
    "    fuel_amt (int): the amount of fuel in the jetpack to start with - default of 10\n",
    "    \"\"\"\n",
    "    \n",
    "    def __init__(self, name, color, max_size=2):\n",
    "        \"\"\"Use the Backpack constructor to initialize the name, color,\n",
    "        fuel_amt and max_size attributes. A jetpack only holds 3 items by default and\n",
    "        10 units of fuel to start with.\n",
    "        \n",
    "        Parameters:\n",
    "        name (str): the name of the jetpack's owner.\n",
    "        color (str): the color of the jetpack.\n",
    "        max_size (int): the maximum number of items that can fit inside.\n",
    "        \"\"\"\n",
    "        Backpack.__init__(self, name, color, max_size)\n",
    "        self.fuel_amt = 10\n",
    "        \n",
    "    def fly(self, burn_amt):\n",
    "        \"\"\"Use the jetpack to consumer 'burn_amt' units of fuel if possible.\n",
    "        \n",
    "        Args:\n",
    "        burn_amt(int): Amount of fuel that is to be consumed\n",
    "        \"\"\"\n",
    "        \n",
    "        if(self.fuel_amt > burn_amt):\n",
    "            self.fuel_amt = self.fuel_amt - burn_amt\n",
    "        else:\n",
    "            print('Not enough fuel!')\n",
    "        \n",
    "    def dump(self):\n",
    "        \"\"\"Empty contents and fuel from jetpack\"\"\"\n",
    "        self.contents.clear()\n",
    "        self.fuel_amt = 0"
   ]
  },
  {
   "cell_type": "code",
   "execution_count": 25,
   "metadata": {},
   "outputs": [
    {
     "name": "stdout",
     "output_type": "stream",
     "text": [
      "Amount of remaining fuel: 7\n",
      "Contents of jetpack: ['Safety fuel']\n"
     ]
    }
   ],
   "source": [
    "my_jetpack = Jetpack(\"Aditya\", \"Red\")    #Creates a Jetpack object\n",
    "\n",
    "my_jetpack.put(\"Safety fuel\")    #Stores \"Safety fuel\" in the Jetpack \n",
    "\n",
    "my_jetpack.fly(3)    #Fly using 3 units of fuel \n",
    "\n",
    "print(\"Amount of remaining fuel:\", my_jetpack.fuel_amt)\n",
    "print(\"Contents of jetpack:\", my_jetpack.contents)"
   ]
  },
  {
   "cell_type": "code",
   "execution_count": 26,
   "metadata": {},
   "outputs": [
    {
     "name": "stdout",
     "output_type": "stream",
     "text": [
      "No room!\n",
      "Contents of jetpack: ['Safety fuel', 'A']\n",
      "Not enough fuel!\n",
      "Amount of remaining fuel: 0\n",
      "Contents of jetpack: []\n"
     ]
    }
   ],
   "source": [
    "my_jetpack.put(\"A\")\n",
    "my_jetpack.put(\"B\")     #Try to add more than the maximum allowable size\n",
    "\n",
    "print(\"Contents of jetpack:\", my_jetpack.contents)\n",
    "\n",
    "my_jetpack.fly(13)    #Try to use more fuel than available\n",
    "\n",
    "my_jetpack.dump()    #Empty contents and fuel\n",
    "\n",
    "print(\"Amount of remaining fuel:\", my_jetpack.fuel_amt)\n",
    "print(\"Contents of jetpack:\", my_jetpack.contents)"
   ]
  }
 ],
 "metadata": {
  "kernelspec": {
   "display_name": "Python 3",
   "language": "python",
   "name": "python3"
  },
  "language_info": {
   "codemirror_mode": {
    "name": "ipython",
    "version": 3
   },
   "file_extension": ".py",
   "mimetype": "text/x-python",
   "name": "python",
   "nbconvert_exporter": "python",
   "pygments_lexer": "ipython3",
   "version": "3.7.3"
  }
 },
 "nbformat": 4,
 "nbformat_minor": 2
}
