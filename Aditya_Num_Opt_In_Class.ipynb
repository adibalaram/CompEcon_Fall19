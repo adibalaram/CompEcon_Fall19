{
 "cells": [
  {
   "cell_type": "markdown",
   "metadata": {},
   "source": [
    "# Optimization in Python\n",
    "\n",
    "This notebook will illustrate numerical optimization in Python.\n",
    "\n",
    "The general problem:\n",
    "\n",
    "$$\\min_{x} f(x) \\ \\ s.t. g(x) \\geq 0 \\ \\ and \\ \\ h(x) = 0 $$"
   ]
  },
  {
   "cell_type": "markdown",
   "metadata": {},
   "source": [
    "Let's focus on the problem of minimizing average cost:\n",
    "\n",
    "$$ AC(x) = \\frac{a}{x} + b + cx $$\n",
    "\n",
    "subject to:\n",
    "\n",
    "$x \\geq 0$"
   ]
  },
  {
   "cell_type": "code",
   "execution_count": 13,
   "metadata": {},
   "outputs": [],
   "source": [
    "def ac (x, *params):\n",
    "    '''\n",
    "    This is the average cost function:\n",
    "    AC(x) = a/x + b + cx\n",
    "    \n",
    "    args:\n",
    "        x (scalar): the amount of output\n",
    "        params (tuple): (a,b,c)\n",
    "        \n",
    "    Return:\n",
    "        avg_cost (scalar): the avg cost at x\n",
    "    '''\n",
    "    a, b, c = params\n",
    "#    if x  > 0:\n",
    "    avg_cost = a / x + b + c * x\n",
    "#    else:\n",
    "#        avg_cost = 1e9\n",
    "    \n",
    "    return avg_cost"
   ]
  },
  {
   "cell_type": "code",
   "execution_count": 5,
   "metadata": {},
   "outputs": [
    {
     "data": {
      "image/png": "[encoded data removed]",
      "text/plain": [
       "<Figure size 432x288 with 1 Axes>"
      ]
     },
     "metadata": {
      "needs_background": "light"
     },
     "output_type": "display_data"
    }
   ],
   "source": [
    "import matplotlib.pyplot as plt\n",
    "%matplotlib inline\n",
    "import numpy as np\n",
    "\n",
    "# set a, b, c\n",
    "a, b, c = 1, 2, 3\n",
    "\n",
    "#put in tuple\n",
    "params = (a, b, c)\n",
    "\n",
    "#define a range of x values\n",
    "x = np.linspace(0.01, 5, 500)\n",
    "\n",
    "#get average cost\n",
    "avg_cost = ac(x, params)\n",
    "\n",
    "#plot average cost\n",
    "plt.plot(x,avg_cost)\n",
    "plt.show()"
   ]
  },
  {
   "cell_type": "code",
   "execution_count": 6,
   "metadata": {},
   "outputs": [
    {
     "data": {
      "text/plain": [
       "0.5773502691896257"
      ]
     },
     "execution_count": 6,
     "metadata": {},
     "output_type": "execute_result"
    }
   ],
   "source": [
    "#Solve analytically\n",
    "\n",
    "min_x = (a / c) ** (1 / 2)\n",
    "min_x"
   ]
  },
  {
   "cell_type": "markdown",
   "metadata": {},
   "source": [
    "## Numerical optimization with SciPy\n",
    "\n",
    "Use SciPy's optimization libraries for numerical optimization"
   ]
  },
  {
   "cell_type": "code",
   "execution_count": 10,
   "metadata": {},
   "outputs": [],
   "source": [
    "import scipy\n",
    "import scipy.optimize as opt"
   ]
  },
  {
   "cell_type": "code",
   "execution_count": 25,
   "metadata": {},
   "outputs": [
    {
     "name": "stdout",
     "output_type": "stream",
     "text": [
      "The analytical solution is x =  0.5773502691896257\n",
      "The numerical solution is x =  0.5773502671176581\n"
     ]
    }
   ],
   "source": [
    "#Use scipy and golden ratio search to find the min\n",
    "result = opt.minimize_scalar(ac, bracket = (0.2, 1.0), args = params, method = 'golden',\n",
    "                             tol = 1e-15, options = {'maxiter': 5000})\n",
    "print('The analytical solution is x = ', min_x)\n",
    "print('The numerical solution is x = ', result['x'])"
   ]
  },
  {
   "cell_type": "code",
   "execution_count": 26,
   "metadata": {},
   "outputs": [
    {
     "name": "stdout",
     "output_type": "stream",
     "text": [
      "The analytical solution is x =  0.5773502691896257\n",
      "The numerical solution is x =  0.5773502679565535\n"
     ]
    }
   ],
   "source": [
    "#Use scipy and Brent's method to find the min\n",
    "result = opt.minimize_scalar(ac, bracket = (0.2, 1.0), args = params, method = 'Brent',\n",
    "                             tol = 1e-15, options = {'maxiter': 5000})\n",
    "print('The analytical solution is x = ', min_x)\n",
    "print('The numerical solution is x = ', result['x'])"
   ]
  },
  {
   "cell_type": "markdown",
   "metadata": {},
   "source": [
    "## Multi-dimensional optimization\n",
    "\n",
    "Use  scipy.optimize.minimize"
   ]
  },
  {
   "cell_type": "code",
   "execution_count": 35,
   "metadata": {},
   "outputs": [
    {
     "name": "stdout",
     "output_type": "stream",
     "text": [
      "The analytical solution is x =  0.5773502691896257\n",
      "The numerical solution is x =  [0.57735027]\n"
     ]
    }
   ],
   "source": [
    "#minimize with Nelder-Mead:\n",
    "\n",
    "result = opt.minimize(ac, 1.2, args = params, method = 'Nelder-Mead',\n",
    "                             tol = 1e-15, options = {'maxiter': 5000})\n",
    "print('The analytical solution is x = ', min_x)\n",
    "print('The numerical solution is x = ', result['x'])"
   ]
  },
  {
   "cell_type": "code",
   "execution_count": 36,
   "metadata": {},
   "outputs": [
    {
     "name": "stdout",
     "output_type": "stream",
     "text": [
      "The analytical solution is x =  0.5773502691896257\n",
      "The numerical solution is x =  [0.57735026]\n"
     ]
    }
   ],
   "source": [
    "#minimize with BFGS:\n",
    "result = opt.minimize(ac, 1.2, args = params, method = 'BFGS',\n",
    "                             tol = 1e-15, options = {'maxiter': 5000})\n",
    "print('The analytical solution is x = ', min_x)\n",
    "print('The numerical solution is x = ', result['x'])"
   ]
  },
  {
   "cell_type": "code",
   "execution_count": 33,
   "metadata": {},
   "outputs": [],
   "source": [
    "#Define Jacobian and Hessian functions\n",
    "def jac_ac(x, *params):\n",
    "    '''\n",
    "    Compute the Jacobian of the AC function\n",
    "    '''\n",
    "    a, b, c = params \n",
    "    jac = -1 * a * x ** -2 + c\n",
    "    return jac\n",
    "\n",
    "\n",
    "def hess_ac(x, *params):\n",
    "    '''\n",
    "    Compute the Hessian of the AC function\n",
    "    '''\n",
    "    a, b, c = params \n",
    "    hess = 2 * a * x ** -3\n",
    "    return hess"
   ]
  },
  {
   "cell_type": "code",
   "execution_count": 37,
   "metadata": {},
   "outputs": [
    {
     "name": "stdout",
     "output_type": "stream",
     "text": [
      "The analytical solution is x =  0.5773502691896257\n",
      "The numerical solution is x =  [-2.17897972e+105]\n"
     ]
    },
    {
     "name": "stderr",
     "output_type": "stream",
     "text": [
      "/Users/Aditya/anaconda3/lib/python3.7/site-packages/scipy/optimize/optimize.py:1614: RuntimeWarning: overflow encountered in true_divide\n",
      "  xsupi = dri0 / (-curv) * b\n",
      "/Users/Aditya/anaconda3/lib/python3.7/site-packages/scipy/optimize/linesearch.py:274: RuntimeWarning: invalid value encountered in multiply\n",
      "  return f(xk + alpha * pk, *args)\n"
     ]
    }
   ],
   "source": [
    "#minimize with Newton's Conjugate Gradient Method:\n",
    "result = opt.minimize(ac, 1.2, args = params, method = 'Newton-CG', jac = jac_ac, hess = hess_ac,\n",
    "                             tol = 1e-15, options = {'maxiter': 5000})\n",
    "print('The analytical solution is x = ', min_x)\n",
    "print('The numerical solution is x = ', result['x'])"
   ]
  },
  {
   "cell_type": "markdown",
   "metadata": {},
   "source": [
    "## Compare speed\n",
    "\n",
    "We saw above that the gradient based method was less robust. Let's check speed..."
   ]
  },
  {
   "cell_type": "code",
   "execution_count": 39,
   "metadata": {},
   "outputs": [
    {
     "name": "stdout",
     "output_type": "stream",
     "text": [
      "Newtons CG method time =  2.7561910152435303\n",
      "Nelder-Mead method time =  14.830888986587524\n"
     ]
    }
   ],
   "source": [
    "#import the time package\n",
    "import time\n",
    "\n",
    "N = 5000\n",
    "\n",
    "start_time = time.time()\n",
    "for i in range(N):\n",
    "    result = opt.minimize(ac, 0.6, args = params, method = 'Newton-CG', jac = jac_ac, hess = hess_ac,\n",
    "                             tol = 1e-15, options = {'maxiter': 5000})\n",
    "end_time = time.time()\n",
    "print('Newtons CG method time = ', end_time - start_time)\n",
    "\n",
    "start_time = time.time()\n",
    "for i in range(N):\n",
    "    result = opt.minimize(ac, 0.6, args = params, method = 'Nelder-Mead',\n",
    "                             tol = 1e-15, options = {'maxiter': 5000})\n",
    "end_time = time.time()\n",
    "print('Nelder-Mead method time = ', end_time - start_time)"
   ]
  },
  {
   "cell_type": "code",
   "execution_count": null,
   "metadata": {},
   "outputs": [],
   "source": []
  }
 ],
 "metadata": {
  "kernelspec": {
   "display_name": "Python 3",
   "language": "python",
   "name": "python3"
  },
  "language_info": {
   "codemirror_mode": {
    "name": "ipython",
    "version": 3
   },
   "file_extension": ".py",
   "mimetype": "text/x-python",
   "name": "python",
   "nbconvert_exporter": "python",
   "pygments_lexer": "ipython3",
   "version": "3.7.3"
  }
 },
 "nbformat": 4,
 "nbformat_minor": 2
}
